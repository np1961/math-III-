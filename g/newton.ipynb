{
 "cells": [
  {
   "cell_type": "code",
   "execution_count": 1,
   "id": "923a98ce",
   "metadata": {},
   "outputs": [],
   "source": [
    "import numpy as np\n",
    "from pandas import DataFrame\n",
    "from warnings  import filterwarnings  as message\n",
    "message(action='ignore')"
   ]
  },
  {
   "cell_type": "code",
   "execution_count": null,
   "id": "816a89b0",
   "metadata": {},
   "outputs": [],
   "source": []
  },
  {
   "cell_type": "code",
   "execution_count": null,
   "id": "cafc21c9",
   "metadata": {},
   "outputs": [],
   "source": []
  },
  {
   "cell_type": "code",
   "execution_count": null,
   "id": "025dd0f6",
   "metadata": {},
   "outputs": [],
   "source": []
  },
  {
   "cell_type": "code",
   "execution_count": 15,
   "id": "c4838c02",
   "metadata": {},
   "outputs": [],
   "source": [
    "class newton:\n",
    "    function=lambda x: 19*x**4 + 4 * x**3 + 4 * x**2 - 4\n",
    "    diff=lambda x:76 * x**3 + 12 * x**2 + 8 * x\n",
    "    def method(x ,eps=1e-6, max_iter=1000):\n",
    "        iterations=iter(range(max_iter))\n",
    "        while True:\n",
    "            try:\n",
    "                iteration=next(iterations)\n",
    "                next_x = x - newton.function(x)/newton.diff(x)\n",
    "                \n",
    "                if abs(next_x - x) < eps:\n",
    "                    print(f\"iterations -->{iteration + 1}\")\n",
    "                    return next_x\n",
    "            except StopIteration as stop:\n",
    "                return next_x\n",
    "            \n",
    "\n",
    "            \n",
    "\n"
   ]
  },
  {
   "cell_type": "code",
   "execution_count": 16,
   "id": "787c8497",
   "metadata": {},
   "outputs": [],
   "source": [
    "output = newton.method(x=11)\n"
   ]
  },
  {
   "cell_type": "code",
   "execution_count": 17,
   "id": "5762e6d1",
   "metadata": {},
   "outputs": [
    {
     "data": {
      "text/plain": [
       "8.234721897639636"
      ]
     },
     "execution_count": 17,
     "metadata": {},
     "output_type": "execute_result"
    }
   ],
   "source": [
    "output"
   ]
  },
  {
   "cell_type": "code",
   "execution_count": null,
   "id": "2d803f14",
   "metadata": {},
   "outputs": [],
   "source": []
  },
  {
   "cell_type": "code",
   "execution_count": null,
   "id": "d47f04d2",
   "metadata": {},
   "outputs": [],
   "source": []
  }
 ],
 "metadata": {
  "kernelspec": {
   "display_name": "Python 3 (ipykernel)",
   "language": "python",
   "name": "python3"
  },
  "language_info": {
   "codemirror_mode": {
    "name": "ipython",
    "version": 3
   },
   "file_extension": ".py",
   "mimetype": "text/x-python",
   "name": "python",
   "nbconvert_exporter": "python",
   "pygments_lexer": "ipython3",
   "version": "3.11.9"
  }
 },
 "nbformat": 4,
 "nbformat_minor": 5
}
