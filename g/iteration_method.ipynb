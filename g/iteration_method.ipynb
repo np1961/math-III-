{
 "cells": [
  {
   "cell_type": "code",
   "execution_count": 1,
   "id": "ed8ee19f-3c2d-4579-a5ef-33fc0bb5d25c",
   "metadata": {},
   "outputs": [],
   "source": [
    "import os\n",
    "from pandas import DataFrame\n",
    "from warnings import filterwarnings as message\n",
    "import numpy as np\n",
    "message(action='ignore')"
   ]
  },
  {
   "cell_type": "code",
   "execution_count": null,
   "id": "98030121-4f20-4b8c-8bb2-c22c0175ff56",
   "metadata": {},
   "outputs": [],
   "source": []
  },
  {
   "cell_type": "code",
   "execution_count": 2,
   "id": "db19c943-b620-49c9-bf1f-7ed3ba720ec8",
   "metadata": {},
   "outputs": [],
   "source": [
    "A_1=DataFrame(np.array( [\n",
    "                        [2 ,-1 ,0],\n",
    "                        [-1, 2, -1],\n",
    "                        [0,-1, 2]]))"
   ]
  },
  {
   "cell_type": "code",
   "execution_count": 4,
   "id": "d1eda2c9-752b-46b1-b71b-c8cdea5de308",
   "metadata": {},
   "outputs": [
    {
     "data": {
      "text/html": [
       "<div>\n",
       "<style scoped>\n",
       "    .dataframe tbody tr th:only-of-type {\n",
       "        vertical-align: middle;\n",
       "    }\n",
       "\n",
       "    .dataframe tbody tr th {\n",
       "        vertical-align: top;\n",
       "    }\n",
       "\n",
       "    .dataframe thead th {\n",
       "        text-align: right;\n",
       "    }\n",
       "</style>\n",
       "<table border=\"1\" class=\"dataframe\">\n",
       "  <thead>\n",
       "    <tr style=\"text-align: right;\">\n",
       "      <th></th>\n",
       "      <th>0</th>\n",
       "      <th>1</th>\n",
       "      <th>2</th>\n",
       "    </tr>\n",
       "  </thead>\n",
       "  <tbody>\n",
       "    <tr>\n",
       "      <th>0</th>\n",
       "      <td>5</td>\n",
       "      <td>-4</td>\n",
       "      <td>1</td>\n",
       "    </tr>\n",
       "    <tr>\n",
       "      <th>1</th>\n",
       "      <td>-4</td>\n",
       "      <td>6</td>\n",
       "      <td>-4</td>\n",
       "    </tr>\n",
       "    <tr>\n",
       "      <th>2</th>\n",
       "      <td>1</td>\n",
       "      <td>-4</td>\n",
       "      <td>5</td>\n",
       "    </tr>\n",
       "  </tbody>\n",
       "</table>\n",
       "</div>"
      ],
      "text/plain": [
       "   0  1  2\n",
       "0  5 -4  1\n",
       "1 -4  6 -4\n",
       "2  1 -4  5"
      ]
     },
     "execution_count": 4,
     "metadata": {},
     "output_type": "execute_result"
    }
   ],
   "source": [
    "A_1.dot(A_1)"
   ]
  },
  {
   "cell_type": "code",
   "execution_count": null,
   "id": "1582eba6",
   "metadata": {},
   "outputs": [],
   "source": []
  },
  {
   "cell_type": "code",
   "execution_count": 6,
   "id": "66d4f287-daea-4fb2-8540-d80b0b4fe67a",
   "metadata": {},
   "outputs": [],
   "source": [
    "def matrix_pow(matrix, _pow_):\n",
    "    output=matrix\n",
    "    for _ in range(1,_pow_,1):\n",
    "        output=output.dot(matrix)\n",
    "    return output\n",
    "        \n"
   ]
  },
  {
   "cell_type": "code",
   "execution_count": null,
   "id": "7919a561",
   "metadata": {},
   "outputs": [],
   "source": []
  },
  {
   "cell_type": "code",
   "execution_count": null,
   "id": "325c8387",
   "metadata": {},
   "outputs": [],
   "source": []
  },
  {
   "cell_type": "code",
   "execution_count": 15,
   "id": "f5c065fa-f3d3-4b19-bb90-bcbc235a82fb",
   "metadata": {},
   "outputs": [],
   "source": [
    "A=[DataFrame(matrix_pow(matrix=A_1, _pow_=_pow_)) for _pow_ in range(1,len(A_1.index)+1)]"
   ]
  },
  {
   "cell_type": "code",
   "execution_count": null,
   "id": "033c1776",
   "metadata": {},
   "outputs": [],
   "source": []
  },
  {
   "cell_type": "code",
   "execution_count": 18,
   "id": "2b687151-5f5c-4597-a64a-c011efa14fa6",
   "metadata": {},
   "outputs": [],
   "source": [
    "S=[np.sum(matrix[index][index] for index in matrix.index) for matrix in A]"
   ]
  },
  {
   "cell_type": "code",
   "execution_count": 19,
   "id": "11d25bf7-4c41-449c-838b-a7cfb7fc0ed2",
   "metadata": {},
   "outputs": [
    {
     "data": {
      "text/plain": [
       "[6, 16, 48]"
      ]
     },
     "execution_count": 19,
     "metadata": {},
     "output_type": "execute_result"
    }
   ],
   "source": [
    "S"
   ]
  },
  {
   "cell_type": "code",
   "execution_count": null,
   "id": "ab298cca-3d37-464d-99c5-7c800e5f6f57",
   "metadata": {},
   "outputs": [],
   "source": []
  },
  {
   "cell_type": "code",
   "execution_count": 24,
   "id": "07a886a7-1b98-4afe-a384-79ad3dbbb633",
   "metadata": {},
   "outputs": [],
   "source": [
    "P_1=S[0]"
   ]
  },
  {
   "cell_type": "code",
   "execution_count": 25,
   "id": "7b8a5a3f-c7d3-4b84-8f71-b12c3cafe170",
   "metadata": {},
   "outputs": [
    {
     "data": {
      "text/plain": [
       "6"
      ]
     },
     "execution_count": 25,
     "metadata": {},
     "output_type": "execute_result"
    }
   ],
   "source": [
    "P_1"
   ]
  },
  {
   "cell_type": "code",
   "execution_count": null,
   "id": "a1c6ba1b-964a-437b-95dd-31069420d466",
   "metadata": {},
   "outputs": [],
   "source": []
  },
  {
   "cell_type": "code",
   "execution_count": null,
   "id": "11a017a0-60e2-44d4-bc9b-f8c2a8022e00",
   "metadata": {},
   "outputs": [],
   "source": []
  },
  {
   "cell_type": "code",
   "execution_count": 26,
   "id": "72c79740-9f16-4a25-bdfd-99638049ab64",
   "metadata": {},
   "outputs": [],
   "source": [
    "P_2=1/2*(S[1]-S[0]*P_1)"
   ]
  },
  {
   "cell_type": "code",
   "execution_count": 28,
   "id": "f210a28e-ac43-4db6-8a3b-08057a805325",
   "metadata": {},
   "outputs": [],
   "source": [
    "P_3=1/3*(S[2]-S[1]*P_1-S[0]*P_2)"
   ]
  },
  {
   "cell_type": "code",
   "execution_count": 29,
   "id": "55a41acd-8601-4793-b538-da22a5c36174",
   "metadata": {},
   "outputs": [
    {
     "data": {
      "text/plain": [
       "(6, -10.0, 4.0)"
      ]
     },
     "execution_count": 29,
     "metadata": {},
     "output_type": "execute_result"
    }
   ],
   "source": [
    "P_1, P_2, P_3"
   ]
  },
  {
   "cell_type": "code",
   "execution_count": null,
   "id": "2d8b0e9c-612f-4e5a-a732-f2b5fbfcc8e8",
   "metadata": {},
   "outputs": [],
   "source": []
  },
  {
   "cell_type": "code",
   "execution_count": null,
   "id": "ac3aa644",
   "metadata": {},
   "outputs": [],
   "source": []
  },
  {
   "cell_type": "code",
   "execution_count": null,
   "id": "c0b73451",
   "metadata": {},
   "outputs": [],
   "source": []
  },
  {
   "cell_type": "code",
   "execution_count": null,
   "id": "2e2a3824",
   "metadata": {},
   "outputs": [],
   "source": []
  },
  {
   "cell_type": "code",
   "execution_count": null,
   "id": "e04ba0f6",
   "metadata": {},
   "outputs": [],
   "source": []
  },
  {
   "cell_type": "code",
   "execution_count": null,
   "id": "07270961",
   "metadata": {},
   "outputs": [],
   "source": []
  },
  {
   "cell_type": "code",
   "execution_count": null,
   "id": "295fd3b7",
   "metadata": {},
   "outputs": [],
   "source": []
  },
  {
   "cell_type": "code",
   "execution_count": null,
   "id": "ca14d02f",
   "metadata": {},
   "outputs": [],
   "source": []
  },
  {
   "cell_type": "code",
   "execution_count": null,
   "id": "4dcf4ce5",
   "metadata": {},
   "outputs": [],
   "source": []
  },
  {
   "cell_type": "code",
   "execution_count": null,
   "id": "48f605f7",
   "metadata": {},
   "outputs": [],
   "source": []
  },
  {
   "cell_type": "code",
   "execution_count": null,
   "id": "be2a5609",
   "metadata": {},
   "outputs": [],
   "source": []
  },
  {
   "cell_type": "code",
   "execution_count": null,
   "id": "38c9a92d",
   "metadata": {},
   "outputs": [],
   "source": []
  },
  {
   "cell_type": "code",
   "execution_count": null,
   "id": "e6474ae3-8ccd-4478-bcd1-03932fd44008",
   "metadata": {},
   "outputs": [],
   "source": []
  }
 ],
 "metadata": {
  "kernelspec": {
   "display_name": "Python 3 (ipykernel)",
   "language": "python",
   "name": "python3"
  },
  "language_info": {
   "codemirror_mode": {
    "name": "ipython",
    "version": 3
   },
   "file_extension": ".py",
   "mimetype": "text/x-python",
   "name": "python",
   "nbconvert_exporter": "python",
   "pygments_lexer": "ipython3",
   "version": "3.11.9"
  }
 },
 "nbformat": 4,
 "nbformat_minor": 5
}
