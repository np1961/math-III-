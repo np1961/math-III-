{
 "cells": [
  {
   "cell_type": "code",
   "execution_count": 1,
   "id": "bccdfaa3",
   "metadata": {},
   "outputs": [],
   "source": [
    "import numpy as np\n",
    "from pandas import DataFrame\n",
    "from pandas import Series\n",
    "from warnings  import filterwarnings  as message\n",
    "message(action='ignore')"
   ]
  },
  {
   "cell_type": "code",
   "execution_count": null,
   "id": "b47f56cf",
   "metadata": {},
   "outputs": [],
   "source": []
  },
  {
   "cell_type": "code",
   "execution_count": 2,
   "id": "ae11d2f2",
   "metadata": {},
   "outputs": [],
   "source": [
    "class Gaus:\n",
    "    \n",
    "    def __init__(self, coefficients=None, constants=None):\n",
    "        \n",
    "        if coefficients is None or constants is None:\n",
    "            self.get_manual_inputing()\n",
    "        else:\n",
    "            self.coefficients, self.constants = coefficients, constants\n",
    "        \n",
    "        \n",
    "    def get_manual_inputing(self):\n",
    "        n = int(input(\"---Enter table line quantity : \"))\n",
    "        self.coefficients = []\n",
    "        self.constants = []\n",
    "        for index in range(n):\n",
    "            self.coefficients.append([float(input(f\"---coefficients[{index}][{column}]: \")) for column in range(n)])\n",
    "            self.constants.append(float(input(f\"------constants[{index}]: \")))\n",
    "\n",
    "\n",
    "    \n",
    "    def elimination_method(self):\n",
    "\n",
    "        self.coefficients = DataFrame(self.coefficients, dtype=float)\n",
    "        self.constants = Series(self.constants, dtype=float)\n",
    "\n",
    "        for index in self.coefficients.index:\n",
    "            max_index = self.coefficients.iloc[index:, index].abs().idxmax()\n",
    "            if abs(self.coefficients.iloc[max_index, index]) < 1e-5:\n",
    "                print(f\"---Problem index={index} in coefficients\")\n",
    "                return None\n",
    "\n",
    "            self.coefficients.iloc[[index, max_index]] = self.coefficients.iloc[[max_index, index]].values\n",
    "            self.constants.iloc[index], self.constants.iloc[max_index] = self.constants.iloc[max_index], self.constants.iloc[index]\n",
    "\n",
    "            for moment in range(index + 1, len(self.coefficients.index)):\n",
    "                factor = self.coefficients.iloc[moment, index] / self.coefficients.iloc[index, index]\n",
    "                self.coefficients.iloc[moment] -= factor * self.coefficients.iloc[index]\n",
    "                self.constants.iloc[moment] -= factor * self.constants.iloc[index]\n",
    "\n",
    "        # Обратный ход\n",
    "        n = len(self.constants)\n",
    "        solution = np.zeros(n)\n",
    "        for i in range(n - 1, -1, -1):\n",
    "            solution[i] = (self.constants.iloc[i] - np.dot(self.coefficients.iloc[i, i + 1:], solution[i + 1:])) / self.coefficients.iloc[i, i]\n",
    "        \n",
    "        \n",
    "        solution=list(solution.astype(int))+list('#')\n",
    "        df=DataFrame(coefficients, columns=['I','II', 'III'])\n",
    "        df['y']=constants\n",
    "        df=df.T\n",
    "        df['solution']=solution\n",
    "        df=df.T\n",
    "\n",
    "        return df\n",
    "\n",
    "\n"
   ]
  },
  {
   "cell_type": "code",
   "execution_count": null,
   "id": "f232d890",
   "metadata": {},
   "outputs": [],
   "source": []
  },
  {
   "cell_type": "code",
   "execution_count": 3,
   "id": "8a1eb166",
   "metadata": {},
   "outputs": [],
   "source": [
    "coefficients = [\n",
    "    [1.0, 2.0, 3.0],\n",
    "    [2.0, 3.0, 2.0],\n",
    "    [4.0, 5.0, 2.0]\n",
    "]\n",
    "\n",
    "constants = [1.0, 3.0, 3.0]"
   ]
  },
  {
   "cell_type": "code",
   "execution_count": null,
   "id": "3fd59414",
   "metadata": {},
   "outputs": [],
   "source": []
  },
  {
   "cell_type": "code",
   "execution_count": null,
   "id": "799786e2",
   "metadata": {},
   "outputs": [],
   "source": []
  },
  {
   "cell_type": "code",
   "execution_count": 4,
   "id": "2725cbe2",
   "metadata": {},
   "outputs": [],
   "source": [
    "\n",
    "\n",
    "gaus = Gaus(coefficients=coefficients, constants=constants)\n",
    "df = gaus.elimination_method()\n",
    "\n"
   ]
  },
  {
   "cell_type": "code",
   "execution_count": 5,
   "id": "272dc38c",
   "metadata": {},
   "outputs": [
    {
     "data": {
      "text/html": [
       "<div>\n",
       "<style scoped>\n",
       "    .dataframe tbody tr th:only-of-type {\n",
       "        vertical-align: middle;\n",
       "    }\n",
       "\n",
       "    .dataframe tbody tr th {\n",
       "        vertical-align: top;\n",
       "    }\n",
       "\n",
       "    .dataframe thead th {\n",
       "        text-align: right;\n",
       "    }\n",
       "</style>\n",
       "<table border=\"1\" class=\"dataframe\">\n",
       "  <thead>\n",
       "    <tr style=\"text-align: right;\">\n",
       "      <th></th>\n",
       "      <th>I</th>\n",
       "      <th>II</th>\n",
       "      <th>III</th>\n",
       "      <th>y</th>\n",
       "    </tr>\n",
       "  </thead>\n",
       "  <tbody>\n",
       "    <tr>\n",
       "      <th>0</th>\n",
       "      <td>1</td>\n",
       "      <td>2</td>\n",
       "      <td>3</td>\n",
       "      <td>1</td>\n",
       "    </tr>\n",
       "    <tr>\n",
       "      <th>1</th>\n",
       "      <td>2</td>\n",
       "      <td>3</td>\n",
       "      <td>2</td>\n",
       "      <td>3</td>\n",
       "    </tr>\n",
       "    <tr>\n",
       "      <th>2</th>\n",
       "      <td>4</td>\n",
       "      <td>5</td>\n",
       "      <td>2</td>\n",
       "      <td>3</td>\n",
       "    </tr>\n",
       "    <tr>\n",
       "      <th>solution</th>\n",
       "      <td>-7</td>\n",
       "      <td>7</td>\n",
       "      <td>-2</td>\n",
       "      <td>#</td>\n",
       "    </tr>\n",
       "  </tbody>\n",
       "</table>\n",
       "</div>"
      ],
      "text/plain": [
       "           I II III  y\n",
       "0          1  2   3  1\n",
       "1          2  3   2  3\n",
       "2          4  5   2  3\n",
       "solution  -7  7  -2  #"
      ]
     },
     "execution_count": 5,
     "metadata": {},
     "output_type": "execute_result"
    }
   ],
   "source": [
    "df"
   ]
  },
  {
   "cell_type": "code",
   "execution_count": null,
   "id": "e9217a3f",
   "metadata": {},
   "outputs": [],
   "source": []
  },
  {
   "cell_type": "code",
   "execution_count": null,
   "id": "b5de3bc4",
   "metadata": {},
   "outputs": [],
   "source": []
  },
  {
   "cell_type": "code",
   "execution_count": null,
   "id": "021599d1",
   "metadata": {},
   "outputs": [],
   "source": []
  },
  {
   "cell_type": "code",
   "execution_count": null,
   "id": "4f10f338",
   "metadata": {},
   "outputs": [],
   "source": []
  }
 ],
 "metadata": {
  "kernelspec": {
   "display_name": "Python 3 (ipykernel)",
   "language": "python",
   "name": "python3"
  },
  "language_info": {
   "codemirror_mode": {
    "name": "ipython",
    "version": 3
   },
   "file_extension": ".py",
   "mimetype": "text/x-python",
   "name": "python",
   "nbconvert_exporter": "python",
   "pygments_lexer": "ipython3",
   "version": "3.11.9"
  }
 },
 "nbformat": 4,
 "nbformat_minor": 5
}
