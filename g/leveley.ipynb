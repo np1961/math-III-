{
 "cells": [
  {
   "cell_type": "code",
   "execution_count": null,
   "id": "177cb8d5",
   "metadata": {},
   "outputs": [],
   "source": []
  },
  {
   "cell_type": "code",
   "execution_count": 30,
   "id": "712f3ddc",
   "metadata": {},
   "outputs": [],
   "source": [
    "import numpy as np\n",
    "from pandas import DataFrame\n",
    "from warnings  import filterwarnings  as message\n",
    "message(action='ignore')"
   ]
  },
  {
   "cell_type": "code",
   "execution_count": null,
   "id": "79509dcc",
   "metadata": {},
   "outputs": [],
   "source": []
  },
  {
   "cell_type": "code",
   "execution_count": 38,
   "id": "1e5e1967",
   "metadata": {},
   "outputs": [
    {
     "data": {
      "text/plain": [
       "array([[ 2, -1,  0],\n",
       "       [-1,  2, -1],\n",
       "       [ 0, -1,  2]])"
      ]
     },
     "execution_count": 38,
     "metadata": {},
     "output_type": "execute_result"
    }
   ],
   "source": [
    "matrix=np.array([  [2,-1,0],\n",
    "                   [-1,2,-1],\n",
    "                   [0,-1,2]])\n",
    "matrix"
   ]
  },
  {
   "cell_type": "code",
   "execution_count": 39,
   "id": "d5de0a67",
   "metadata": {},
   "outputs": [],
   "source": [
    "class leveley:\n",
    "    matrix:np.array=matrix\n",
    "    _matrix_=matrix.copy()\n",
    "    coefficients :list=[]\n",
    "\n",
    "    @classmethod\n",
    "    def method(cls):\n",
    "        for k in range(1,  len(cls.matrix)+ 1):\n",
    "            new_matrix =np.dot(cls._matrix_, cls.matrix)\n",
    "            cls.coefficients.insert(0, -(np.trace(new_matrix)) / k)\n",
    "            cls._matrix_ = new_matrix+ (cls.coefficients[0] * np.identity(len(cls.matrix)))\n",
    "\n"
   ]
  },
  {
   "cell_type": "code",
   "execution_count": null,
   "id": "c18e337a",
   "metadata": {},
   "outputs": [],
   "source": []
  },
  {
   "cell_type": "code",
   "execution_count": 36,
   "id": "c95f85d5",
   "metadata": {},
   "outputs": [],
   "source": [
    "leveley.method()"
   ]
  },
  {
   "cell_type": "code",
   "execution_count": null,
   "id": "fa2b6ba2",
   "metadata": {},
   "outputs": [],
   "source": []
  },
  {
   "cell_type": "code",
   "execution_count": 37,
   "id": "bcd4bf6a",
   "metadata": {
    "scrolled": true
   },
   "outputs": [
    {
     "data": {
      "text/plain": [
       "[-13.333333333333334, 24.0, -16.0]"
      ]
     },
     "execution_count": 37,
     "metadata": {},
     "output_type": "execute_result"
    }
   ],
   "source": [
    "leveley.coefficients"
   ]
  },
  {
   "cell_type": "code",
   "execution_count": null,
   "id": "6d0027d0",
   "metadata": {},
   "outputs": [],
   "source": []
  },
  {
   "cell_type": "code",
   "execution_count": null,
   "id": "4d48f16d",
   "metadata": {},
   "outputs": [],
   "source": []
  },
  {
   "cell_type": "code",
   "execution_count": null,
   "id": "f3f1792d",
   "metadata": {},
   "outputs": [],
   "source": []
  },
  {
   "cell_type": "code",
   "execution_count": null,
   "id": "b7600019",
   "metadata": {},
   "outputs": [],
   "source": []
  }
 ],
 "metadata": {
  "kernelspec": {
   "display_name": "Python 3 (ipykernel)",
   "language": "python",
   "name": "python3"
  },
  "language_info": {
   "codemirror_mode": {
    "name": "ipython",
    "version": 3
   },
   "file_extension": ".py",
   "mimetype": "text/x-python",
   "name": "python",
   "nbconvert_exporter": "python",
   "pygments_lexer": "ipython3",
   "version": "3.11.9"
  }
 },
 "nbformat": 4,
 "nbformat_minor": 5
}
